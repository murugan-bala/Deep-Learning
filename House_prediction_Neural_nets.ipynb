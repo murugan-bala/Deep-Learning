{
 "cells": [
  {
   "cell_type": "markdown",
   "metadata": {},
   "source": [
    "### 1.Exploring and Processing the Data\n",
    "\n",
    "### 2.Building and Training our Neural Network\n",
    "\n",
    "### 3.Visualizing Loss and Accuracy\n",
    "\n",
    "### 4.Adding Regularization to our Neural Network"
   ]
  },
  {
   "cell_type": "markdown",
   "metadata": {},
   "source": [
    "                        STep 1 : Exploring and Processing the Data"
   ]
  },
  {
   "cell_type": "code",
   "execution_count": 43,
   "metadata": {},
   "outputs": [
    {
     "data": {
      "text/html": [
       "<div>\n",
       "<style scoped>\n",
       "    .dataframe tbody tr th:only-of-type {\n",
       "        vertical-align: middle;\n",
       "    }\n",
       "\n",
       "    .dataframe tbody tr th {\n",
       "        vertical-align: top;\n",
       "    }\n",
       "\n",
       "    .dataframe thead th {\n",
       "        text-align: right;\n",
       "    }\n",
       "</style>\n",
       "<table border=\"1\" class=\"dataframe\">\n",
       "  <thead>\n",
       "    <tr style=\"text-align: right;\">\n",
       "      <th></th>\n",
       "      <th>LotArea</th>\n",
       "      <th>OverallQual</th>\n",
       "      <th>OverallCond</th>\n",
       "      <th>TotalBsmtSF</th>\n",
       "      <th>FullBath</th>\n",
       "      <th>HalfBath</th>\n",
       "      <th>BedroomAbvGr</th>\n",
       "      <th>TotRmsAbvGrd</th>\n",
       "      <th>Fireplaces</th>\n",
       "      <th>GarageArea</th>\n",
       "      <th>AboveMedianPrice</th>\n",
       "    </tr>\n",
       "  </thead>\n",
       "  <tbody>\n",
       "    <tr>\n",
       "      <th>0</th>\n",
       "      <td>8450</td>\n",
       "      <td>7</td>\n",
       "      <td>5</td>\n",
       "      <td>856</td>\n",
       "      <td>2</td>\n",
       "      <td>1</td>\n",
       "      <td>3</td>\n",
       "      <td>8</td>\n",
       "      <td>0</td>\n",
       "      <td>548</td>\n",
       "      <td>1</td>\n",
       "    </tr>\n",
       "    <tr>\n",
       "      <th>1</th>\n",
       "      <td>9600</td>\n",
       "      <td>6</td>\n",
       "      <td>8</td>\n",
       "      <td>1262</td>\n",
       "      <td>2</td>\n",
       "      <td>0</td>\n",
       "      <td>3</td>\n",
       "      <td>6</td>\n",
       "      <td>1</td>\n",
       "      <td>460</td>\n",
       "      <td>1</td>\n",
       "    </tr>\n",
       "    <tr>\n",
       "      <th>2</th>\n",
       "      <td>11250</td>\n",
       "      <td>7</td>\n",
       "      <td>5</td>\n",
       "      <td>920</td>\n",
       "      <td>2</td>\n",
       "      <td>1</td>\n",
       "      <td>3</td>\n",
       "      <td>6</td>\n",
       "      <td>1</td>\n",
       "      <td>608</td>\n",
       "      <td>1</td>\n",
       "    </tr>\n",
       "    <tr>\n",
       "      <th>3</th>\n",
       "      <td>9550</td>\n",
       "      <td>7</td>\n",
       "      <td>5</td>\n",
       "      <td>756</td>\n",
       "      <td>1</td>\n",
       "      <td>0</td>\n",
       "      <td>3</td>\n",
       "      <td>7</td>\n",
       "      <td>1</td>\n",
       "      <td>642</td>\n",
       "      <td>0</td>\n",
       "    </tr>\n",
       "    <tr>\n",
       "      <th>4</th>\n",
       "      <td>14260</td>\n",
       "      <td>8</td>\n",
       "      <td>5</td>\n",
       "      <td>1145</td>\n",
       "      <td>2</td>\n",
       "      <td>1</td>\n",
       "      <td>4</td>\n",
       "      <td>9</td>\n",
       "      <td>1</td>\n",
       "      <td>836</td>\n",
       "      <td>1</td>\n",
       "    </tr>\n",
       "  </tbody>\n",
       "</table>\n",
       "</div>"
      ],
      "text/plain": [
       "   LotArea  OverallQual  OverallCond  TotalBsmtSF  FullBath  HalfBath  \\\n",
       "0     8450            7            5          856         2         1   \n",
       "1     9600            6            8         1262         2         0   \n",
       "2    11250            7            5          920         2         1   \n",
       "3     9550            7            5          756         1         0   \n",
       "4    14260            8            5         1145         2         1   \n",
       "\n",
       "   BedroomAbvGr  TotRmsAbvGrd  Fireplaces  GarageArea  AboveMedianPrice  \n",
       "0             3             8           0         548                 1  \n",
       "1             3             6           1         460                 1  \n",
       "2             3             6           1         608                 1  \n",
       "3             3             7           1         642                 0  \n",
       "4             4             9           1         836                 1  "
      ]
     },
     "execution_count": 43,
     "metadata": {},
     "output_type": "execute_result"
    }
   ],
   "source": [
    "import pandas as pd\n",
    "df = pd.read_csv('housepricedata.csv')\n",
    "df.head()"
   ]
  },
  {
   "cell_type": "code",
   "execution_count": 44,
   "metadata": {},
   "outputs": [
    {
     "data": {
      "text/plain": [
       "array([[ 8450,     7,     5, ...,     0,   548,     1],\n",
       "       [ 9600,     6,     8, ...,     1,   460,     1],\n",
       "       [11250,     7,     5, ...,     1,   608,     1],\n",
       "       ...,\n",
       "       [ 9042,     7,     9, ...,     2,   252,     1],\n",
       "       [ 9717,     5,     6, ...,     0,   240,     0],\n",
       "       [ 9937,     5,     6, ...,     0,   276,     0]])"
      ]
     },
     "execution_count": 44,
     "metadata": {},
     "output_type": "execute_result"
    }
   ],
   "source": [
    "dataset = df.values\n",
    "dataset"
   ]
  },
  {
   "cell_type": "code",
   "execution_count": 45,
   "metadata": {},
   "outputs": [],
   "source": [
    "X = dataset[:,0:10]"
   ]
  },
  {
   "cell_type": "code",
   "execution_count": 46,
   "metadata": {},
   "outputs": [],
   "source": [
    "Y = dataset[:,10]"
   ]
  },
  {
   "cell_type": "markdown",
   "metadata": {},
   "source": [
    "The next step in our processing is to make sure that the scale of the input features are similar. Right now, features such as lot area are in the order of the thousands, a score for overall quality is ranged from 1 to 10, and the number of fireplaces tend to be 0, 1 or 2."
   ]
  },
  {
   "cell_type": "code",
   "execution_count": 47,
   "metadata": {},
   "outputs": [
    {
     "name": "stderr",
     "output_type": "stream",
     "text": [
      "/home/sands/anaconda3/lib/python3.6/site-packages/sklearn/utils/validation.py:595: DataConversionWarning: Data with input dtype int64 was converted to float64 by MinMaxScaler.\n",
      "  warnings.warn(msg, DataConversionWarning)\n"
     ]
    }
   ],
   "source": [
    "from sklearn import preprocessing\n",
    "\n",
    "min_max_scaler = preprocessing.MinMaxScaler()\n",
    "X_scale = min_max_scaler.fit_transform(X)"
   ]
  },
  {
   "cell_type": "code",
   "execution_count": 48,
   "metadata": {},
   "outputs": [
    {
     "data": {
      "text/plain": [
       "array([[0.0334198 , 0.66666667, 0.5       , ..., 0.5       , 0.        ,\n",
       "        0.3864598 ],\n",
       "       [0.03879502, 0.55555556, 0.875     , ..., 0.33333333, 0.33333333,\n",
       "        0.32440056],\n",
       "       [0.04650728, 0.66666667, 0.5       , ..., 0.33333333, 0.33333333,\n",
       "        0.42877292],\n",
       "       ...,\n",
       "       [0.03618687, 0.66666667, 1.        , ..., 0.58333333, 0.66666667,\n",
       "        0.17771509],\n",
       "       [0.03934189, 0.44444444, 0.625     , ..., 0.25      , 0.        ,\n",
       "        0.16925247],\n",
       "       [0.04037019, 0.44444444, 0.625     , ..., 0.33333333, 0.        ,\n",
       "        0.19464034]])"
      ]
     },
     "execution_count": 48,
     "metadata": {},
     "output_type": "execute_result"
    }
   ],
   "source": [
    "X_scale"
   ]
  },
  {
   "cell_type": "markdown",
   "metadata": {},
   "source": [
    "Now, we are down to our last step in processing the data, which is to split our dataset into a training set, a validation set and a test set.\n"
   ]
  },
  {
   "cell_type": "code",
   "execution_count": 49,
   "metadata": {},
   "outputs": [],
   "source": [
    "from sklearn.model_selection import train_test_split"
   ]
  },
  {
   "cell_type": "code",
   "execution_count": 50,
   "metadata": {},
   "outputs": [],
   "source": [
    "X_train, X_val_and_test, Y_train, Y_val_and_test = train_test_split(X_scale, Y, test_size=0.3)"
   ]
  },
  {
   "cell_type": "markdown",
   "metadata": {},
   "source": [
    "Unfortunately, this function only helps us split our dataset into two. Since we want a separate validation set and test set, we can use the same function to do the split again on val_and_test:"
   ]
  },
  {
   "cell_type": "code",
   "execution_count": 51,
   "metadata": {},
   "outputs": [],
   "source": [
    "X_val, X_test, Y_val, Y_test = train_test_split(X_val_and_test, Y_val_and_test, test_size=0.5)"
   ]
  },
  {
   "cell_type": "markdown",
   "metadata": {},
   "source": [
    "In summary, we now have a total of six variables for our datasets we will use:\n",
    "1. X_train (10 input features, 70% of full dataset)\n",
    "2. X_val (10 input features, 15% of full dataset)\n",
    "3. X_test (10 input features, 15% of full dataset)\n",
    "4. Y_train (1 label, 70% of full dataset)\n",
    "5. Y_val (1 label, 15% of full dataset)\n",
    "6. Y_test (1 label, 15% of full dataset)"
   ]
  },
  {
   "cell_type": "code",
   "execution_count": 52,
   "metadata": {},
   "outputs": [
    {
     "name": "stdout",
     "output_type": "stream",
     "text": [
      "(1022, 10) (219, 10) (219, 10) (1022,) (219,) (219,)\n"
     ]
    }
   ],
   "source": [
    "print(X_train.shape, X_val.shape, X_test.shape, Y_train.shape, Y_val.shape, Y_test.shape)"
   ]
  },
  {
   "cell_type": "markdown",
   "metadata": {},
   "source": [
    "### Building and Training our First Neural Network "
   ]
  },
  {
   "cell_type": "markdown",
   "metadata": {},
   "source": [
    "#First Step: Setting up the Architecture\n",
    "In words, we want to have these layers:\n",
    "1. Input Layer : 10 neurons\n",
    "2. Hidden layer 1: 32 neurons, ReLU activation\n",
    "3. Hidden layer 2: 32 neurons, ReLU activation\n",
    "4. Output Layer: 1 neuron, Sigmoid activation\n",
    "\n",
    "Now, we need to describe this architecture to Keras. We will be using the Sequential model, which means that we merely need to describe the layers above in sequence.\n",
    "First, let’s import the necessary code from Keras:\n"
   ]
  },
  {
   "cell_type": "code",
   "execution_count": 53,
   "metadata": {},
   "outputs": [],
   "source": [
    "from keras.models import Sequential\n",
    "from keras.layers import Dense"
   ]
  },
  {
   "cell_type": "code",
   "execution_count": 54,
   "metadata": {},
   "outputs": [],
   "source": [
    "## Example : model = Sequential([ ... ])"
   ]
  },
  {
   "cell_type": "code",
   "execution_count": 55,
   "metadata": {},
   "outputs": [],
   "source": [
    "# Then, we specify that in our Keras sequential model like this:\n",
    "\n",
    "model = Sequential([\n",
    "    Dense(32, activation='relu', input_shape=(10,)),\n",
    "    Dense(32, activation='relu'),\n",
    "    Dense(1, activation='sigmoid'),\n",
    "])"
   ]
  },
  {
   "cell_type": "markdown",
   "metadata": {},
   "source": [
    "### Dense(32, activation='relu', input_shape=(10,)), \n",
    "We have our first layer as a dense layer with 32 neurons, ReLU activation and the input shape is 10 since we have 10 input features. Note that ‘Dense’ refers to a fully-connected layer, which is what we will be using.\n"
   ]
  },
  {
   "cell_type": "markdown",
   "metadata": {},
   "source": [
    "Our second layer is also a dense layer with 32 neurons, ReLU activation. Note that we do not have to describe the input shape since Keras can infer from the output of our first layer.\n",
    "\n",
    "### Dense(1, activation='sigmoid'),\n",
    "\n",
    "Our third layer is a dense layer with 1 neuron, sigmoid activation.\n",
    "And just like that, we have written our model architecture (template) in code!"
   ]
  },
  {
   "cell_type": "markdown",
   "metadata": {},
   "source": [
    "   ### STEP 2: Second Step: Filling in the best numbers"
   ]
  },
  {
   "cell_type": "markdown",
   "metadata": {},
   "source": [
    "Now that we’ve got our architecture specified, we need to find the best numbers for it. Before we start our training, we have to configure the model by\n",
    "1. Telling it which algorithm you want to use to do the optimization\n",
    "2. Telling it what loss function to use\n",
    "3. Telling it what other metrics you want to track apart from the loss function\n",
    "Configuring the model with these settings requires us to call the function model.compile, like this:"
   ]
  },
  {
   "cell_type": "code",
   "execution_count": 56,
   "metadata": {},
   "outputs": [],
   "source": [
    "model.compile(optimizer='sgd',\n",
    "              loss='binary_crossentropy',\n",
    "              metrics=['accuracy'])"
   ]
  },
  {
   "cell_type": "code",
   "execution_count": 57,
   "metadata": {},
   "outputs": [
    {
     "name": "stdout",
     "output_type": "stream",
     "text": [
      "Train on 1022 samples, validate on 219 samples\n",
      "Epoch 1/100\n",
      "1022/1022 [==============================] - 0s 321us/step - loss: 0.6707 - acc: 0.7114 - val_loss: 0.6637 - val_acc: 0.7397\n",
      "Epoch 2/100\n",
      "1022/1022 [==============================] - 0s 58us/step - loss: 0.6620 - acc: 0.7211 - val_loss: 0.6534 - val_acc: 0.7671\n",
      "Epoch 3/100\n",
      "1022/1022 [==============================] - 0s 46us/step - loss: 0.6528 - acc: 0.7632 - val_loss: 0.6419 - val_acc: 0.7808\n",
      "Epoch 4/100\n",
      "1022/1022 [==============================] - 0s 45us/step - loss: 0.6431 - acc: 0.7710 - val_loss: 0.6315 - val_acc: 0.7717\n",
      "Epoch 5/100\n",
      "1022/1022 [==============================] - 0s 46us/step - loss: 0.6339 - acc: 0.7368 - val_loss: 0.6247 - val_acc: 0.8219\n",
      "Epoch 6/100\n",
      "1022/1022 [==============================] - 0s 44us/step - loss: 0.6253 - acc: 0.8014 - val_loss: 0.6160 - val_acc: 0.8402\n",
      "Epoch 7/100\n",
      "1022/1022 [==============================] - 0s 56us/step - loss: 0.6161 - acc: 0.8239 - val_loss: 0.6062 - val_acc: 0.8402\n",
      "Epoch 8/100\n",
      "1022/1022 [==============================] - 0s 59us/step - loss: 0.6073 - acc: 0.8249 - val_loss: 0.5972 - val_acc: 0.8402\n",
      "Epoch 9/100\n",
      "1022/1022 [==============================] - 0s 49us/step - loss: 0.5979 - acc: 0.8327 - val_loss: 0.5891 - val_acc: 0.8584\n",
      "Epoch 10/100\n",
      "1022/1022 [==============================] - 0s 45us/step - loss: 0.5886 - acc: 0.8297 - val_loss: 0.5807 - val_acc: 0.8676\n",
      "Epoch 11/100\n",
      "1022/1022 [==============================] - 0s 43us/step - loss: 0.5791 - acc: 0.8474 - val_loss: 0.5694 - val_acc: 0.8630\n",
      "Epoch 12/100\n",
      "1022/1022 [==============================] - 0s 51us/step - loss: 0.5692 - acc: 0.8523 - val_loss: 0.5591 - val_acc: 0.8630\n",
      "Epoch 13/100\n",
      "1022/1022 [==============================] - 0s 56us/step - loss: 0.5591 - acc: 0.8454 - val_loss: 0.5494 - val_acc: 0.8630\n",
      "Epoch 14/100\n",
      "1022/1022 [==============================] - 0s 56us/step - loss: 0.5489 - acc: 0.8493 - val_loss: 0.5402 - val_acc: 0.8813\n",
      "Epoch 15/100\n",
      "1022/1022 [==============================] - 0s 58us/step - loss: 0.5388 - acc: 0.8571 - val_loss: 0.5307 - val_acc: 0.8813\n",
      "Epoch 16/100\n",
      "1022/1022 [==============================] - 0s 47us/step - loss: 0.5284 - acc: 0.8611 - val_loss: 0.5201 - val_acc: 0.8813\n",
      "Epoch 17/100\n",
      "1022/1022 [==============================] - 0s 43us/step - loss: 0.5181 - acc: 0.8601 - val_loss: 0.5099 - val_acc: 0.8767\n",
      "Epoch 18/100\n",
      "1022/1022 [==============================] - 0s 47us/step - loss: 0.5077 - acc: 0.8601 - val_loss: 0.4973 - val_acc: 0.8813\n",
      "Epoch 19/100\n",
      "1022/1022 [==============================] - 0s 46us/step - loss: 0.4974 - acc: 0.8591 - val_loss: 0.4879 - val_acc: 0.8767\n",
      "Epoch 20/100\n",
      "1022/1022 [==============================] - 0s 47us/step - loss: 0.4872 - acc: 0.8630 - val_loss: 0.4768 - val_acc: 0.8813\n",
      "Epoch 21/100\n",
      "1022/1022 [==============================] - 0s 52us/step - loss: 0.4768 - acc: 0.8601 - val_loss: 0.4692 - val_acc: 0.8721\n",
      "Epoch 22/100\n",
      "1022/1022 [==============================] - 0s 45us/step - loss: 0.4672 - acc: 0.8728 - val_loss: 0.4566 - val_acc: 0.8721\n",
      "Epoch 23/100\n",
      "1022/1022 [==============================] - 0s 58us/step - loss: 0.4575 - acc: 0.8699 - val_loss: 0.4471 - val_acc: 0.8721\n",
      "Epoch 24/100\n",
      "1022/1022 [==============================] - 0s 44us/step - loss: 0.4481 - acc: 0.8640 - val_loss: 0.4391 - val_acc: 0.8676\n",
      "Epoch 25/100\n",
      "1022/1022 [==============================] - 0s 44us/step - loss: 0.4388 - acc: 0.8689 - val_loss: 0.4315 - val_acc: 0.8721\n",
      "Epoch 26/100\n",
      "1022/1022 [==============================] - 0s 47us/step - loss: 0.4302 - acc: 0.8718 - val_loss: 0.4205 - val_acc: 0.8676\n",
      "Epoch 27/100\n",
      "1022/1022 [==============================] - 0s 53us/step - loss: 0.4221 - acc: 0.8708 - val_loss: 0.4124 - val_acc: 0.8676\n",
      "Epoch 28/100\n",
      "1022/1022 [==============================] - 0s 61us/step - loss: 0.4139 - acc: 0.8738 - val_loss: 0.4032 - val_acc: 0.8676\n",
      "Epoch 29/100\n",
      "1022/1022 [==============================] - 0s 49us/step - loss: 0.4060 - acc: 0.8659 - val_loss: 0.4005 - val_acc: 0.8721\n",
      "Epoch 30/100\n",
      "1022/1022 [==============================] - 0s 48us/step - loss: 0.3991 - acc: 0.8728 - val_loss: 0.3892 - val_acc: 0.8676\n",
      "Epoch 31/100\n",
      "1022/1022 [==============================] - 0s 51us/step - loss: 0.3926 - acc: 0.8699 - val_loss: 0.3832 - val_acc: 0.8767\n",
      "Epoch 32/100\n",
      "1022/1022 [==============================] - 0s 47us/step - loss: 0.3857 - acc: 0.8718 - val_loss: 0.3800 - val_acc: 0.8676\n",
      "Epoch 33/100\n",
      "1022/1022 [==============================] - 0s 42us/step - loss: 0.3801 - acc: 0.8748 - val_loss: 0.3720 - val_acc: 0.8721\n",
      "Epoch 34/100\n",
      "1022/1022 [==============================] - 0s 44us/step - loss: 0.3739 - acc: 0.8728 - val_loss: 0.3690 - val_acc: 0.8676\n",
      "Epoch 35/100\n",
      "1022/1022 [==============================] - 0s 46us/step - loss: 0.3690 - acc: 0.8748 - val_loss: 0.3605 - val_acc: 0.8721\n",
      "Epoch 36/100\n",
      "1022/1022 [==============================] - 0s 57us/step - loss: 0.3639 - acc: 0.8718 - val_loss: 0.3590 - val_acc: 0.8676\n",
      "Epoch 37/100\n",
      "1022/1022 [==============================] - 0s 65us/step - loss: 0.3590 - acc: 0.8787 - val_loss: 0.3495 - val_acc: 0.8767\n",
      "Epoch 38/100\n",
      "1022/1022 [==============================] - 0s 54us/step - loss: 0.3550 - acc: 0.8748 - val_loss: 0.3465 - val_acc: 0.8676\n",
      "Epoch 39/100\n",
      "1022/1022 [==============================] - 0s 47us/step - loss: 0.3508 - acc: 0.8757 - val_loss: 0.3454 - val_acc: 0.8676\n",
      "Epoch 40/100\n",
      "1022/1022 [==============================] - 0s 46us/step - loss: 0.3472 - acc: 0.8777 - val_loss: 0.3398 - val_acc: 0.8676\n",
      "Epoch 41/100\n",
      "1022/1022 [==============================] - 0s 48us/step - loss: 0.3434 - acc: 0.8757 - val_loss: 0.3372 - val_acc: 0.8676\n",
      "Epoch 42/100\n",
      "1022/1022 [==============================] - 0s 48us/step - loss: 0.3397 - acc: 0.8767 - val_loss: 0.3331 - val_acc: 0.8676\n",
      "Epoch 43/100\n",
      "1022/1022 [==============================] - 0s 45us/step - loss: 0.3365 - acc: 0.8777 - val_loss: 0.3303 - val_acc: 0.8676\n",
      "Epoch 44/100\n",
      "1022/1022 [==============================] - 0s 54us/step - loss: 0.3330 - acc: 0.8757 - val_loss: 0.3240 - val_acc: 0.8721\n",
      "Epoch 45/100\n",
      "1022/1022 [==============================] - 0s 60us/step - loss: 0.3307 - acc: 0.8757 - val_loss: 0.3213 - val_acc: 0.8721\n",
      "Epoch 46/100\n",
      "1022/1022 [==============================] - 0s 53us/step - loss: 0.3285 - acc: 0.8767 - val_loss: 0.3166 - val_acc: 0.8721\n",
      "Epoch 47/100\n",
      "1022/1022 [==============================] - 0s 44us/step - loss: 0.3256 - acc: 0.8748 - val_loss: 0.3162 - val_acc: 0.8721\n",
      "Epoch 48/100\n",
      "1022/1022 [==============================] - 0s 46us/step - loss: 0.3233 - acc: 0.8757 - val_loss: 0.3154 - val_acc: 0.8676\n",
      "Epoch 49/100\n",
      "1022/1022 [==============================] - 0s 56us/step - loss: 0.3211 - acc: 0.8777 - val_loss: 0.3142 - val_acc: 0.8676\n",
      "Epoch 50/100\n",
      "1022/1022 [==============================] - 0s 62us/step - loss: 0.3191 - acc: 0.8796 - val_loss: 0.3073 - val_acc: 0.8721\n",
      "Epoch 51/100\n",
      "1022/1022 [==============================] - 0s 63us/step - loss: 0.3172 - acc: 0.8777 - val_loss: 0.3087 - val_acc: 0.8676\n",
      "Epoch 52/100\n",
      "1022/1022 [==============================] - 0s 54us/step - loss: 0.3153 - acc: 0.8806 - val_loss: 0.3080 - val_acc: 0.8721\n",
      "Epoch 53/100\n",
      "1022/1022 [==============================] - 0s 44us/step - loss: 0.3131 - acc: 0.8777 - val_loss: 0.3063 - val_acc: 0.8767\n",
      "Epoch 54/100\n",
      "1022/1022 [==============================] - 0s 61us/step - loss: 0.3119 - acc: 0.8816 - val_loss: 0.3033 - val_acc: 0.8721\n",
      "Epoch 55/100\n",
      "1022/1022 [==============================] - 0s 54us/step - loss: 0.3100 - acc: 0.8806 - val_loss: 0.3024 - val_acc: 0.8813\n",
      "Epoch 56/100\n",
      "1022/1022 [==============================] - 0s 50us/step - loss: 0.3079 - acc: 0.8777 - val_loss: 0.2958 - val_acc: 0.8676\n",
      "Epoch 57/100\n",
      "1022/1022 [==============================] - 0s 51us/step - loss: 0.3067 - acc: 0.8767 - val_loss: 0.3031 - val_acc: 0.8858\n",
      "Epoch 58/100\n",
      "1022/1022 [==============================] - 0s 65us/step - loss: 0.3063 - acc: 0.8787 - val_loss: 0.2977 - val_acc: 0.8813\n",
      "Epoch 59/100\n",
      "1022/1022 [==============================] - 0s 62us/step - loss: 0.3044 - acc: 0.8777 - val_loss: 0.2961 - val_acc: 0.8858\n",
      "Epoch 60/100\n"
     ]
    },
    {
     "name": "stdout",
     "output_type": "stream",
     "text": [
      "1022/1022 [==============================] - 0s 49us/step - loss: 0.3029 - acc: 0.8796 - val_loss: 0.2933 - val_acc: 0.8813\n",
      "Epoch 61/100\n",
      "1022/1022 [==============================] - 0s 52us/step - loss: 0.3017 - acc: 0.8816 - val_loss: 0.2936 - val_acc: 0.8904\n",
      "Epoch 62/100\n",
      "1022/1022 [==============================] - 0s 46us/step - loss: 0.3006 - acc: 0.8806 - val_loss: 0.2909 - val_acc: 0.8813\n",
      "Epoch 63/100\n",
      "1022/1022 [==============================] - 0s 42us/step - loss: 0.2995 - acc: 0.8826 - val_loss: 0.2883 - val_acc: 0.8721\n",
      "Epoch 64/100\n",
      "1022/1022 [==============================] - 0s 42us/step - loss: 0.2980 - acc: 0.8816 - val_loss: 0.2908 - val_acc: 0.8858\n",
      "Epoch 65/100\n",
      "1022/1022 [==============================] - 0s 49us/step - loss: 0.2966 - acc: 0.8836 - val_loss: 0.2845 - val_acc: 0.8813\n",
      "Epoch 66/100\n",
      "1022/1022 [==============================] - 0s 43us/step - loss: 0.2966 - acc: 0.8826 - val_loss: 0.2846 - val_acc: 0.8813\n",
      "Epoch 67/100\n",
      "1022/1022 [==============================] - 0s 51us/step - loss: 0.2944 - acc: 0.8816 - val_loss: 0.2861 - val_acc: 0.8858\n",
      "Epoch 68/100\n",
      "1022/1022 [==============================] - 0s 46us/step - loss: 0.2943 - acc: 0.8826 - val_loss: 0.2837 - val_acc: 0.8858\n",
      "Epoch 69/100\n",
      "1022/1022 [==============================] - 0s 47us/step - loss: 0.2925 - acc: 0.8845 - val_loss: 0.2806 - val_acc: 0.8813\n",
      "Epoch 70/100\n",
      "1022/1022 [==============================] - 0s 49us/step - loss: 0.2925 - acc: 0.8836 - val_loss: 0.2831 - val_acc: 0.8858\n",
      "Epoch 71/100\n",
      "1022/1022 [==============================] - 0s 48us/step - loss: 0.2917 - acc: 0.8845 - val_loss: 0.2822 - val_acc: 0.8858\n",
      "Epoch 72/100\n",
      "1022/1022 [==============================] - 0s 50us/step - loss: 0.2904 - acc: 0.8865 - val_loss: 0.2810 - val_acc: 0.8904\n",
      "Epoch 73/100\n",
      "1022/1022 [==============================] - 0s 53us/step - loss: 0.2900 - acc: 0.8826 - val_loss: 0.2796 - val_acc: 0.8904\n",
      "Epoch 74/100\n",
      "1022/1022 [==============================] - 0s 43us/step - loss: 0.2894 - acc: 0.8845 - val_loss: 0.2792 - val_acc: 0.8904\n",
      "Epoch 75/100\n",
      "1022/1022 [==============================] - 0s 52us/step - loss: 0.2883 - acc: 0.8875 - val_loss: 0.2781 - val_acc: 0.8904\n",
      "Epoch 76/100\n",
      "1022/1022 [==============================] - 0s 44us/step - loss: 0.2883 - acc: 0.8845 - val_loss: 0.2808 - val_acc: 0.8858\n",
      "Epoch 77/100\n",
      "1022/1022 [==============================] - 0s 48us/step - loss: 0.2871 - acc: 0.8875 - val_loss: 0.2763 - val_acc: 0.8904\n",
      "Epoch 78/100\n",
      "1022/1022 [==============================] - 0s 48us/step - loss: 0.2861 - acc: 0.8865 - val_loss: 0.2775 - val_acc: 0.8904\n",
      "Epoch 79/100\n",
      "1022/1022 [==============================] - 0s 44us/step - loss: 0.2859 - acc: 0.8855 - val_loss: 0.2763 - val_acc: 0.8904\n",
      "Epoch 80/100\n",
      "1022/1022 [==============================] - 0s 42us/step - loss: 0.2842 - acc: 0.8885 - val_loss: 0.2723 - val_acc: 0.8904\n",
      "Epoch 81/100\n",
      "1022/1022 [==============================] - 0s 44us/step - loss: 0.2836 - acc: 0.8865 - val_loss: 0.2762 - val_acc: 0.8950\n",
      "Epoch 82/100\n",
      "1022/1022 [==============================] - 0s 50us/step - loss: 0.2834 - acc: 0.8875 - val_loss: 0.2744 - val_acc: 0.8950\n",
      "Epoch 83/100\n",
      "1022/1022 [==============================] - 0s 48us/step - loss: 0.2828 - acc: 0.8885 - val_loss: 0.2725 - val_acc: 0.8904\n",
      "Epoch 84/100\n",
      "1022/1022 [==============================] - 0s 50us/step - loss: 0.2824 - acc: 0.8885 - val_loss: 0.2735 - val_acc: 0.8950\n",
      "Epoch 85/100\n",
      "1022/1022 [==============================] - 0s 45us/step - loss: 0.2817 - acc: 0.8875 - val_loss: 0.2706 - val_acc: 0.8904\n",
      "Epoch 86/100\n",
      "1022/1022 [==============================] - 0s 44us/step - loss: 0.2804 - acc: 0.8865 - val_loss: 0.2748 - val_acc: 0.8858\n",
      "Epoch 87/100\n",
      "1022/1022 [==============================] - 0s 42us/step - loss: 0.2802 - acc: 0.8855 - val_loss: 0.2713 - val_acc: 0.8995\n",
      "Epoch 88/100\n",
      "1022/1022 [==============================] - 0s 54us/step - loss: 0.2792 - acc: 0.8855 - val_loss: 0.2766 - val_acc: 0.8858\n",
      "Epoch 89/100\n",
      "1022/1022 [==============================] - 0s 47us/step - loss: 0.2795 - acc: 0.8865 - val_loss: 0.2692 - val_acc: 0.8950\n",
      "Epoch 90/100\n",
      "1022/1022 [==============================] - 0s 42us/step - loss: 0.2789 - acc: 0.8894 - val_loss: 0.2676 - val_acc: 0.8995\n",
      "Epoch 91/100\n",
      "1022/1022 [==============================] - 0s 43us/step - loss: 0.2769 - acc: 0.8855 - val_loss: 0.2755 - val_acc: 0.8858\n",
      "Epoch 92/100\n",
      "1022/1022 [==============================] - 0s 53us/step - loss: 0.2767 - acc: 0.8933 - val_loss: 0.2668 - val_acc: 0.8995\n",
      "Epoch 93/100\n",
      "1022/1022 [==============================] - 0s 43us/step - loss: 0.2764 - acc: 0.8865 - val_loss: 0.2651 - val_acc: 0.9041\n",
      "Epoch 94/100\n",
      "1022/1022 [==============================] - 0s 50us/step - loss: 0.2761 - acc: 0.8894 - val_loss: 0.2700 - val_acc: 0.8904\n",
      "Epoch 95/100\n",
      "1022/1022 [==============================] - 0s 44us/step - loss: 0.2758 - acc: 0.8914 - val_loss: 0.2675 - val_acc: 0.8904\n",
      "Epoch 96/100\n",
      "1022/1022 [==============================] - 0s 42us/step - loss: 0.2746 - acc: 0.8885 - val_loss: 0.2645 - val_acc: 0.9041\n",
      "Epoch 97/100\n",
      "1022/1022 [==============================] - 0s 43us/step - loss: 0.2746 - acc: 0.8875 - val_loss: 0.2642 - val_acc: 0.9041\n",
      "Epoch 98/100\n",
      "1022/1022 [==============================] - 0s 55us/step - loss: 0.2740 - acc: 0.8894 - val_loss: 0.2640 - val_acc: 0.9041\n",
      "Epoch 99/100\n",
      "1022/1022 [==============================] - 0s 42us/step - loss: 0.2734 - acc: 0.8924 - val_loss: 0.2656 - val_acc: 0.8950\n",
      "Epoch 100/100\n",
      "1022/1022 [==============================] - 0s 46us/step - loss: 0.2739 - acc: 0.8904 - val_loss: 0.2636 - val_acc: 0.8995\n"
     ]
    }
   ],
   "source": [
    "#Training on the data is pretty straightforward and requires us to write one line of code:\n",
    "\n",
    "hist = model.fit(X_train, Y_train,\n",
    "          batch_size=32, epochs=100,\n",
    "          validation_data=(X_val, Y_val))"
   ]
  },
  {
   "cell_type": "code",
   "execution_count": 58,
   "metadata": {},
   "outputs": [
    {
     "name": "stdout",
     "output_type": "stream",
     "text": [
      "219/219 [==============================] - 0s 24us/step\n"
     ]
    },
    {
     "data": {
      "text/plain": [
       "0.881278536907614"
      ]
     },
     "execution_count": 58,
     "metadata": {},
     "output_type": "execute_result"
    }
   ],
   "source": [
    "#To find the accuracy on our test set, we run this code below\n",
    "model.evaluate(X_test, Y_test)[1]"
   ]
  },
  {
   "cell_type": "markdown",
   "metadata": {},
   "source": [
    "The reason why we have the index 1 after the model.evaluate function is because the function returns the loss as the first element and the accuracy as the second element. To only output the accuracy, simply access the second element (which is indexed by 1, since the first element starts its indexing from 0).\n"
   ]
  },
  {
   "cell_type": "markdown",
   "metadata": {},
   "source": [
    "#### Summary: Coding up our first neural network required only a few lines of code:\n",
    "1. We specify the architecture with the Keras Sequential model.\n",
    "2. We specify some of our settings (optimizer, loss function, metrics to track) with model.compile\n",
    "3. We train our model (find the best parameters for our architecture) with the training data with model.fit\n",
    "4. We evaluate our model on the test set with model.evaluate"
   ]
  },
  {
   "cell_type": "markdown",
   "metadata": {},
   "source": [
    "   ### Visualizing Loss and Accuracy"
   ]
  },
  {
   "cell_type": "code",
   "execution_count": 61,
   "metadata": {},
   "outputs": [],
   "source": [
    "import matplotlib.pyplot as plt"
   ]
  },
  {
   "cell_type": "markdown",
   "metadata": {},
   "source": [
    "Then, we want to visualize the training loss and the validation loss. To do so, run this snippet of code:"
   ]
  },
  {
   "cell_type": "code",
   "execution_count": 62,
   "metadata": {},
   "outputs": [
    {
     "data": {
      "image/png": "[encoded data removed]",
      "text/plain": [
       "<Figure size 432x288 with 1 Axes>"
      ]
     },
     "metadata": {
      "needs_background": "light"
     },
     "output_type": "display_data"
    }
   ],
   "source": [
    "plt.plot(hist.history['loss'])\n",
    "plt.plot(hist.history['val_loss'])\n",
    "plt.title('Model loss')\n",
    "plt.ylabel('Loss')\n",
    "plt.xlabel('Epoch')\n",
    "plt.legend(['Train', 'Val'], loc='upper right')\n",
    "plt.show()"
   ]
  },
  {
   "cell_type": "markdown",
   "metadata": {},
   "source": [
    "We can do the same to plot our training accuracy and validation accuracy with the code below:"
   ]
  },
  {
   "cell_type": "code",
   "execution_count": 63,
   "metadata": {},
   "outputs": [
    {
     "data": {
      "image/png": "[encoded data removed]",
      "text/plain": [
       "<Figure size 432x288 with 1 Axes>"
      ]
     },
     "metadata": {
      "needs_background": "light"
     },
     "output_type": "display_data"
    }
   ],
   "source": [
    "plt.plot(hist.history['acc'])\n",
    "plt.plot(hist.history['val_acc'])\n",
    "plt.title('Model accuracy')\n",
    "plt.ylabel('Accuracy')\n",
    "plt.xlabel('Epoch')\n",
    "plt.legend(['Train', 'Val'], loc='lower right')\n",
    "plt.show()"
   ]
  },
  {
   "cell_type": "markdown",
   "metadata": {},
   "source": [
    "### Adding Regularization to our Neural Network"
   ]
  },
  {
   "cell_type": "code",
   "execution_count": 64,
   "metadata": {},
   "outputs": [
    {
     "name": "stdout",
     "output_type": "stream",
     "text": [
      "Train on 1022 samples, validate on 219 samples\n",
      "Epoch 1/100\n",
      "1022/1022 [==============================] - 4s 3ms/step - loss: 0.4514 - acc: 0.7886 - val_loss: 0.3404 - val_acc: 0.8584\n",
      "Epoch 2/100\n",
      "1022/1022 [==============================] - 3s 3ms/step - loss: 0.3425 - acc: 0.8571 - val_loss: 0.3099 - val_acc: 0.8630\n",
      "Epoch 3/100\n",
      "1022/1022 [==============================] - 3s 3ms/step - loss: 0.3031 - acc: 0.8689 - val_loss: 0.3010 - val_acc: 0.8676\n",
      "Epoch 4/100\n",
      "1022/1022 [==============================] - 3s 3ms/step - loss: 0.2760 - acc: 0.8953 - val_loss: 0.2615 - val_acc: 0.8858\n",
      "Epoch 5/100\n",
      "1022/1022 [==============================] - 3s 3ms/step - loss: 0.2711 - acc: 0.8845 - val_loss: 0.2825 - val_acc: 0.8767\n",
      "Epoch 6/100\n",
      "1022/1022 [==============================] - 3s 3ms/step - loss: 0.2595 - acc: 0.9031 - val_loss: 0.2633 - val_acc: 0.8721\n",
      "Epoch 7/100\n",
      "1022/1022 [==============================] - 3s 2ms/step - loss: 0.2614 - acc: 0.8933 - val_loss: 0.4144 - val_acc: 0.8356\n",
      "Epoch 8/100\n",
      "1022/1022 [==============================] - 3s 3ms/step - loss: 0.2537 - acc: 0.8953 - val_loss: 0.2895 - val_acc: 0.8858\n",
      "Epoch 9/100\n",
      "1022/1022 [==============================] - 3s 3ms/step - loss: 0.2387 - acc: 0.9002 - val_loss: 0.2675 - val_acc: 0.8721\n",
      "Epoch 10/100\n",
      "1022/1022 [==============================] - 3s 3ms/step - loss: 0.2300 - acc: 0.9012 - val_loss: 0.2512 - val_acc: 0.8904\n",
      "Epoch 11/100\n",
      "1022/1022 [==============================] - 3s 3ms/step - loss: 0.2466 - acc: 0.8924 - val_loss: 0.2688 - val_acc: 0.8630\n",
      "Epoch 12/100\n",
      "1022/1022 [==============================] - 3s 3ms/step - loss: 0.2332 - acc: 0.8943 - val_loss: 0.2515 - val_acc: 0.8676\n",
      "Epoch 13/100\n",
      "1022/1022 [==============================] - 3s 3ms/step - loss: 0.2337 - acc: 0.9022 - val_loss: 0.2540 - val_acc: 0.8858\n",
      "Epoch 14/100\n",
      "1022/1022 [==============================] - 3s 3ms/step - loss: 0.2225 - acc: 0.9080 - val_loss: 0.2787 - val_acc: 0.8584\n",
      "Epoch 15/100\n",
      "1022/1022 [==============================] - 3s 3ms/step - loss: 0.2419 - acc: 0.8963 - val_loss: 0.2410 - val_acc: 0.8813\n",
      "Epoch 16/100\n",
      "1022/1022 [==============================] - 3s 3ms/step - loss: 0.2247 - acc: 0.9061 - val_loss: 0.2457 - val_acc: 0.8721\n",
      "Epoch 17/100\n",
      "1022/1022 [==============================] - 3s 3ms/step - loss: 0.2250 - acc: 0.9002 - val_loss: 0.2284 - val_acc: 0.8858\n",
      "Epoch 18/100\n",
      "1022/1022 [==============================] - 3s 3ms/step - loss: 0.2277 - acc: 0.9178 - val_loss: 0.2398 - val_acc: 0.8858\n",
      "Epoch 19/100\n",
      "1022/1022 [==============================] - 3s 3ms/step - loss: 0.1940 - acc: 0.9149 - val_loss: 0.2653 - val_acc: 0.8584\n",
      "Epoch 20/100\n",
      "1022/1022 [==============================] - 3s 3ms/step - loss: 0.1984 - acc: 0.9168 - val_loss: 0.2621 - val_acc: 0.8676\n",
      "Epoch 21/100\n",
      "1022/1022 [==============================] - 3s 3ms/step - loss: 0.2050 - acc: 0.9110 - val_loss: 0.2431 - val_acc: 0.8858\n",
      "Epoch 22/100\n",
      "1022/1022 [==============================] - 3s 3ms/step - loss: 0.2191 - acc: 0.9070 - val_loss: 0.2278 - val_acc: 0.8904\n",
      "Epoch 23/100\n",
      "1022/1022 [==============================] - 3s 3ms/step - loss: 0.1976 - acc: 0.9217 - val_loss: 0.2447 - val_acc: 0.8904\n",
      "Epoch 24/100\n",
      "1022/1022 [==============================] - 3s 3ms/step - loss: 0.1890 - acc: 0.9188 - val_loss: 0.2300 - val_acc: 0.8813\n",
      "Epoch 25/100\n",
      "1022/1022 [==============================] - 3s 3ms/step - loss: 0.1951 - acc: 0.9227 - val_loss: 0.2652 - val_acc: 0.8676\n",
      "Epoch 26/100\n",
      "1022/1022 [==============================] - 3s 3ms/step - loss: 0.2025 - acc: 0.9090 - val_loss: 0.2629 - val_acc: 0.8630\n",
      "Epoch 27/100\n",
      "1022/1022 [==============================] - 3s 3ms/step - loss: 0.2001 - acc: 0.9188 - val_loss: 0.2371 - val_acc: 0.8767\n",
      "Epoch 28/100\n",
      "1022/1022 [==============================] - 3s 3ms/step - loss: 0.1916 - acc: 0.9149 - val_loss: 0.2664 - val_acc: 0.8995\n",
      "Epoch 29/100\n",
      "1022/1022 [==============================] - 3s 3ms/step - loss: 0.1933 - acc: 0.9159 - val_loss: 0.2640 - val_acc: 0.8858\n",
      "Epoch 30/100\n",
      "1022/1022 [==============================] - 3s 3ms/step - loss: 0.1837 - acc: 0.9247 - val_loss: 0.2371 - val_acc: 0.8813\n",
      "Epoch 31/100\n",
      "1022/1022 [==============================] - 3s 3ms/step - loss: 0.1815 - acc: 0.9237 - val_loss: 0.2747 - val_acc: 0.8676\n",
      "Epoch 32/100\n",
      "1022/1022 [==============================] - 3s 3ms/step - loss: 0.1869 - acc: 0.9237 - val_loss: 0.2790 - val_acc: 0.8950\n",
      "Epoch 33/100\n",
      "1022/1022 [==============================] - 3s 3ms/step - loss: 0.1945 - acc: 0.9090 - val_loss: 0.2616 - val_acc: 0.8676\n",
      "Epoch 34/100\n",
      "1022/1022 [==============================] - 3s 3ms/step - loss: 0.1810 - acc: 0.9247 - val_loss: 0.2962 - val_acc: 0.8950\n",
      "Epoch 35/100\n",
      "1022/1022 [==============================] - 3s 3ms/step - loss: 0.1752 - acc: 0.9256 - val_loss: 0.2497 - val_acc: 0.8858\n",
      "Epoch 36/100\n",
      "1022/1022 [==============================] - 3s 3ms/step - loss: 0.1716 - acc: 0.9286 - val_loss: 0.2774 - val_acc: 0.8813\n",
      "Epoch 37/100\n",
      "1022/1022 [==============================] - 3s 3ms/step - loss: 0.1758 - acc: 0.9256 - val_loss: 0.3082 - val_acc: 0.8904\n",
      "Epoch 38/100\n",
      "1022/1022 [==============================] - 3s 3ms/step - loss: 0.1758 - acc: 0.9237 - val_loss: 0.2371 - val_acc: 0.8904\n",
      "Epoch 39/100\n",
      "1022/1022 [==============================] - 3s 3ms/step - loss: 0.1646 - acc: 0.9266 - val_loss: 0.3636 - val_acc: 0.8904\n",
      "Epoch 40/100\n",
      "1022/1022 [==============================] - 3s 3ms/step - loss: 0.1810 - acc: 0.9188 - val_loss: 0.2980 - val_acc: 0.8767\n",
      "Epoch 41/100\n",
      "1022/1022 [==============================] - 3s 3ms/step - loss: 0.1634 - acc: 0.9315 - val_loss: 0.2543 - val_acc: 0.8858\n",
      "Epoch 42/100\n",
      "1022/1022 [==============================] - 3s 3ms/step - loss: 0.1650 - acc: 0.9256 - val_loss: 0.3465 - val_acc: 0.8630\n",
      "Epoch 43/100\n",
      "1022/1022 [==============================] - 3s 3ms/step - loss: 0.1742 - acc: 0.9305 - val_loss: 0.2608 - val_acc: 0.8813\n",
      "Epoch 44/100\n",
      "1022/1022 [==============================] - 3s 3ms/step - loss: 0.1573 - acc: 0.9354 - val_loss: 0.2725 - val_acc: 0.8858\n",
      "Epoch 45/100\n",
      "1022/1022 [==============================] - 3s 3ms/step - loss: 0.1664 - acc: 0.9295 - val_loss: 0.2992 - val_acc: 0.8813\n",
      "Epoch 46/100\n",
      "1022/1022 [==============================] - 3s 3ms/step - loss: 0.1842 - acc: 0.9227 - val_loss: 0.3258 - val_acc: 0.8904\n",
      "Epoch 47/100\n",
      "1022/1022 [==============================] - 3s 3ms/step - loss: 0.1619 - acc: 0.9295 - val_loss: 0.2767 - val_acc: 0.8721\n",
      "Epoch 48/100\n",
      "1022/1022 [==============================] - 3s 3ms/step - loss: 0.1639 - acc: 0.9266 - val_loss: 0.2741 - val_acc: 0.8813\n",
      "Epoch 49/100\n",
      "1022/1022 [==============================] - 3s 3ms/step - loss: 0.1517 - acc: 0.9354 - val_loss: 0.3341 - val_acc: 0.8950\n",
      "Epoch 50/100\n",
      "1022/1022 [==============================] - 3s 3ms/step - loss: 0.1590 - acc: 0.9305 - val_loss: 0.2914 - val_acc: 0.8858\n",
      "Epoch 51/100\n",
      "1022/1022 [==============================] - 4s 4ms/step - loss: 0.1592 - acc: 0.9305 - val_loss: 0.2899 - val_acc: 0.8767\n",
      "Epoch 52/100\n",
      "1022/1022 [==============================] - 3s 3ms/step - loss: 0.1548 - acc: 0.9325 - val_loss: 0.2882 - val_acc: 0.8950\n",
      "Epoch 53/100\n",
      "1022/1022 [==============================] - 3s 3ms/step - loss: 0.1628 - acc: 0.9354 - val_loss: 0.2768 - val_acc: 0.8767\n",
      "Epoch 54/100\n",
      "1022/1022 [==============================] - 3s 3ms/step - loss: 0.1511 - acc: 0.9344 - val_loss: 0.3092 - val_acc: 0.8584\n",
      "Epoch 55/100\n",
      "1022/1022 [==============================] - 3s 3ms/step - loss: 0.1492 - acc: 0.9374 - val_loss: 0.3083 - val_acc: 0.8676\n",
      "Epoch 56/100\n",
      "1022/1022 [==============================] - 3s 3ms/step - loss: 0.1397 - acc: 0.9423 - val_loss: 0.2995 - val_acc: 0.8767\n",
      "Epoch 57/100\n",
      "1022/1022 [==============================] - 3s 3ms/step - loss: 0.1769 - acc: 0.9325 - val_loss: 0.2673 - val_acc: 0.8904\n",
      "Epoch 58/100\n",
      "1022/1022 [==============================] - 3s 3ms/step - loss: 0.1525 - acc: 0.9344 - val_loss: 0.3007 - val_acc: 0.8721\n",
      "Epoch 59/100\n",
      "1022/1022 [==============================] - 3s 3ms/step - loss: 0.1500 - acc: 0.9423 - val_loss: 0.3163 - val_acc: 0.8721\n",
      "Epoch 60/100\n",
      "1022/1022 [==============================] - 3s 3ms/step - loss: 0.1397 - acc: 0.9393 - val_loss: 0.3241 - val_acc: 0.8950\n"
     ]
    },
    {
     "name": "stdout",
     "output_type": "stream",
     "text": [
      "Epoch 61/100\n",
      "1022/1022 [==============================] - 3s 3ms/step - loss: 0.1354 - acc: 0.9403 - val_loss: 0.4378 - val_acc: 0.8767\n",
      "Epoch 62/100\n",
      "1022/1022 [==============================] - 3s 3ms/step - loss: 0.1805 - acc: 0.9286 - val_loss: 0.2897 - val_acc: 0.8813\n",
      "Epoch 63/100\n",
      "1022/1022 [==============================] - 3s 3ms/step - loss: 0.1469 - acc: 0.9364 - val_loss: 0.2882 - val_acc: 0.8858\n",
      "Epoch 64/100\n",
      "1022/1022 [==============================] - 3s 3ms/step - loss: 0.1662 - acc: 0.9286 - val_loss: 0.3059 - val_acc: 0.8584\n",
      "Epoch 65/100\n",
      "1022/1022 [==============================] - 3s 3ms/step - loss: 0.1497 - acc: 0.9364 - val_loss: 0.3191 - val_acc: 0.8950\n",
      "Epoch 66/100\n",
      "1022/1022 [==============================] - 3s 3ms/step - loss: 0.1345 - acc: 0.9472 - val_loss: 0.3412 - val_acc: 0.8767\n",
      "Epoch 67/100\n",
      "1022/1022 [==============================] - 3s 3ms/step - loss: 0.1513 - acc: 0.9403 - val_loss: 0.3641 - val_acc: 0.8721\n",
      "Epoch 68/100\n",
      "1022/1022 [==============================] - 3s 3ms/step - loss: 0.1532 - acc: 0.9315 - val_loss: 0.3458 - val_acc: 0.8904\n",
      "Epoch 69/100\n",
      "1022/1022 [==============================] - 3s 3ms/step - loss: 0.1789 - acc: 0.9266 - val_loss: 0.3104 - val_acc: 0.8676\n",
      "Epoch 70/100\n",
      "1022/1022 [==============================] - 3s 3ms/step - loss: 0.1306 - acc: 0.9442 - val_loss: 0.3061 - val_acc: 0.8676\n",
      "Epoch 71/100\n",
      "1022/1022 [==============================] - 3s 3ms/step - loss: 0.1374 - acc: 0.9442 - val_loss: 0.3730 - val_acc: 0.8813\n",
      "Epoch 72/100\n",
      "1022/1022 [==============================] - 3s 3ms/step - loss: 0.1321 - acc: 0.9423 - val_loss: 0.3231 - val_acc: 0.8767\n",
      "Epoch 73/100\n",
      "1022/1022 [==============================] - 3s 3ms/step - loss: 0.1306 - acc: 0.9521 - val_loss: 0.3181 - val_acc: 0.8813\n",
      "Epoch 74/100\n",
      "1022/1022 [==============================] - 3s 3ms/step - loss: 0.1255 - acc: 0.9501 - val_loss: 0.3441 - val_acc: 0.8630\n",
      "Epoch 75/100\n",
      "1022/1022 [==============================] - 3s 3ms/step - loss: 0.1272 - acc: 0.9452 - val_loss: 0.3770 - val_acc: 0.8721\n",
      "Epoch 76/100\n",
      "1022/1022 [==============================] - 3s 3ms/step - loss: 0.1311 - acc: 0.9432 - val_loss: 0.3484 - val_acc: 0.8721\n",
      "Epoch 77/100\n",
      "1022/1022 [==============================] - 3s 3ms/step - loss: 0.1199 - acc: 0.9521 - val_loss: 0.3993 - val_acc: 0.8858\n",
      "Epoch 78/100\n",
      "1022/1022 [==============================] - 3s 3ms/step - loss: 0.1372 - acc: 0.9462 - val_loss: 0.4523 - val_acc: 0.8767\n",
      "Epoch 79/100\n",
      "1022/1022 [==============================] - 3s 3ms/step - loss: 0.1406 - acc: 0.9423 - val_loss: 0.3424 - val_acc: 0.8767\n",
      "Epoch 80/100\n",
      "1022/1022 [==============================] - 3s 3ms/step - loss: 0.1197 - acc: 0.9521 - val_loss: 0.3646 - val_acc: 0.8904\n",
      "Epoch 81/100\n",
      "1022/1022 [==============================] - 3s 3ms/step - loss: 0.1079 - acc: 0.9540 - val_loss: 0.4204 - val_acc: 0.8858\n",
      "Epoch 82/100\n",
      "1022/1022 [==============================] - 3s 3ms/step - loss: 0.1229 - acc: 0.9501 - val_loss: 0.4590 - val_acc: 0.8493\n",
      "Epoch 83/100\n",
      "1022/1022 [==============================] - 3s 3ms/step - loss: 0.1350 - acc: 0.9452 - val_loss: 0.3511 - val_acc: 0.8858\n",
      "Epoch 84/100\n",
      "1022/1022 [==============================] - 3s 3ms/step - loss: 0.1148 - acc: 0.9481 - val_loss: 0.3676 - val_acc: 0.8584\n",
      "Epoch 85/100\n",
      "1022/1022 [==============================] - 3s 3ms/step - loss: 0.1039 - acc: 0.9589 - val_loss: 0.5461 - val_acc: 0.8721\n",
      "Epoch 86/100\n",
      "1022/1022 [==============================] - 3s 3ms/step - loss: 0.1154 - acc: 0.9491 - val_loss: 0.4337 - val_acc: 0.8767\n",
      "Epoch 87/100\n",
      "1022/1022 [==============================] - 3s 3ms/step - loss: 0.1214 - acc: 0.9481 - val_loss: 0.4119 - val_acc: 0.8676\n",
      "Epoch 88/100\n",
      "1022/1022 [==============================] - 3s 3ms/step - loss: 0.1379 - acc: 0.9442 - val_loss: 0.4122 - val_acc: 0.8721\n",
      "Epoch 89/100\n",
      "1022/1022 [==============================] - 3s 3ms/step - loss: 0.1372 - acc: 0.9491 - val_loss: 0.4460 - val_acc: 0.8858\n",
      "Epoch 90/100\n",
      "1022/1022 [==============================] - 3s 3ms/step - loss: 0.1421 - acc: 0.9432 - val_loss: 0.3860 - val_acc: 0.8950\n",
      "Epoch 91/100\n",
      "1022/1022 [==============================] - 3s 3ms/step - loss: 0.1218 - acc: 0.9540 - val_loss: 0.3302 - val_acc: 0.8858\n",
      "Epoch 92/100\n",
      "1022/1022 [==============================] - 3s 3ms/step - loss: 0.1130 - acc: 0.9579 - val_loss: 0.4063 - val_acc: 0.8721\n",
      "Epoch 93/100\n",
      "1022/1022 [==============================] - 3s 3ms/step - loss: 0.0929 - acc: 0.9658 - val_loss: 0.4540 - val_acc: 0.8767\n",
      "Epoch 94/100\n",
      "1022/1022 [==============================] - 3s 3ms/step - loss: 0.0956 - acc: 0.9609 - val_loss: 0.4385 - val_acc: 0.8767\n",
      "Epoch 95/100\n",
      "1022/1022 [==============================] - 3s 3ms/step - loss: 0.0855 - acc: 0.9706 - val_loss: 0.5471 - val_acc: 0.8858\n",
      "Epoch 96/100\n",
      "1022/1022 [==============================] - 3s 3ms/step - loss: 0.1047 - acc: 0.9569 - val_loss: 0.4086 - val_acc: 0.8630\n",
      "Epoch 97/100\n",
      "1022/1022 [==============================] - 3s 3ms/step - loss: 0.1380 - acc: 0.9472 - val_loss: 0.4037 - val_acc: 0.8858\n",
      "Epoch 98/100\n",
      "1022/1022 [==============================] - 3s 3ms/step - loss: 0.1791 - acc: 0.9198 - val_loss: 0.2855 - val_acc: 0.8904\n",
      "Epoch 99/100\n",
      "1022/1022 [==============================] - 3s 3ms/step - loss: 0.1184 - acc: 0.9511 - val_loss: 0.4145 - val_acc: 0.8950\n",
      "Epoch 100/100\n",
      "1022/1022 [==============================] - 3s 3ms/step - loss: 0.1241 - acc: 0.9521 - val_loss: 0.3982 - val_acc: 0.8630\n"
     ]
    }
   ],
   "source": [
    "model_2 = Sequential([\n",
    "    Dense(1000, activation='relu', input_shape=(10,)),\n",
    "    Dense(1000, activation='relu'),\n",
    "    Dense(1000, activation='relu'),\n",
    "    Dense(1000, activation='relu'),\n",
    "    Dense(1, activation='sigmoid'),\n",
    "])\n",
    "\n",
    "\n",
    "model_2.compile(optimizer='adam',\n",
    "              loss='binary_crossentropy',\n",
    "              metrics=['accuracy'])\n",
    "\n",
    "\n",
    "\n",
    "hist_2 = model_2.fit(X_train, Y_train,\n",
    "          batch_size=32, epochs=100,\n",
    "          validation_data=(X_val, Y_val))"
   ]
  },
  {
   "cell_type": "code",
   "execution_count": 65,
   "metadata": {},
   "outputs": [
    {
     "data": {
      "image/png": "[encoded data removed]",
      "text/plain": [
       "<Figure size 432x288 with 1 Axes>"
      ]
     },
     "metadata": {
      "needs_background": "light"
     },
     "output_type": "display_data"
    }
   ],
   "source": [
    "plt.plot(hist_2.history['loss'])\n",
    "plt.plot(hist_2.history['val_loss'])\n",
    "plt.title('Model loss')\n",
    "plt.ylabel('Loss')\n",
    "plt.xlabel('Epoch')\n",
    "plt.legend(['Train', 'Val'], loc='upper right')\n",
    "plt.show()"
   ]
  },
  {
   "cell_type": "markdown",
   "metadata": {},
   "source": [
    "This is a clear sign of over-fitting. The training loss is decreasing, but the validation loss is way above the training loss and increasing "
   ]
  },
  {
   "cell_type": "code",
   "execution_count": 66,
   "metadata": {},
   "outputs": [
    {
     "data": {
      "image/png": "[encoded data removed]",
      "text/plain": [
       "<Figure size 432x288 with 1 Axes>"
      ]
     },
     "metadata": {
      "needs_background": "light"
     },
     "output_type": "display_data"
    }
   ],
   "source": [
    "plt.plot(hist_2.history['acc'])\n",
    "plt.plot(hist_2.history['val_acc'])\n",
    "plt.title('Model accuracy')\n",
    "plt.ylabel('Accuracy')\n",
    "plt.xlabel('Epoch')\n",
    "plt.legend(['Train', 'Val'], loc='lower right')\n",
    "plt.show()"
   ]
  },
  {
   "cell_type": "markdown",
   "metadata": {},
   "source": [
    "Now, let’s try out some of our strategies to reduce over-fitting (apart from changing our architecture back to our first model). that we introduced three strategies to reduce over-fitting.\n",
    "\n",
    "Of the three, we’ll incorporate L2 regularization and dropout here. The reason we don’t add early stopping here is because after we’ve used the first two strategies, the validation loss doesn’t take the U-shape we see above and so early stopping will not be as effective."
   ]
  },
  {
   "cell_type": "code",
   "execution_count": 67,
   "metadata": {},
   "outputs": [],
   "source": [
    "from keras.layers import Dropout\n",
    "from keras import regularizers"
   ]
  },
  {
   "cell_type": "code",
   "execution_count": 68,
   "metadata": {},
   "outputs": [
    {
     "name": "stdout",
     "output_type": "stream",
     "text": [
      "WARNING:tensorflow:From /home/sands/anaconda3/lib/python3.6/site-packages/keras/backend/tensorflow_backend.py:3445: calling dropout (from tensorflow.python.ops.nn_ops) with keep_prob is deprecated and will be removed in a future version.\n",
      "Instructions for updating:\n",
      "Please use `rate` instead of `keep_prob`. Rate should be set to `rate = 1 - keep_prob`.\n"
     ]
    }
   ],
   "source": [
    "model_3 = Sequential([\n",
    "    Dense(1000, activation='relu', kernel_regularizer=regularizers.l2(0.01), input_shape=(10,)),\n",
    "    Dropout(0.3),\n",
    "    Dense(1000, activation='relu', kernel_regularizer=regularizers.l2(0.01)),\n",
    "    Dropout(0.3),\n",
    "    Dense(1000, activation='relu', kernel_regularizer=regularizers.l2(0.01)),\n",
    "    Dropout(0.3),\n",
    "    Dense(1000, activation='relu', kernel_regularizer=regularizers.l2(0.01)),\n",
    "    Dropout(0.3),\n",
    "    Dense(1, activation='sigmoid', kernel_regularizer=regularizers.l2(0.01)),\n",
    "])"
   ]
  },
  {
   "cell_type": "markdown",
   "metadata": {},
   "source": [
    "#### Difference 1:\n",
    "To add L2 regularization, notice that we’ve added a bit of extra code in each of our dense layers like this:\n",
    "kernel_regularizer=regularizers.l2(0.01)\n",
    "This tells Keras to include the squared values of those parameters in our overall loss function, and weight them by 0.01 in the loss function.\n",
    "\n",
    "\n",
    "#### Difference 2: \n",
    "To add Dropout, we added a new layer like this:\n",
    "Dropout(0.3),\n",
    "This means that the neurons in the previous layer has a probability of 0.3 in dropping out during training. Let’s compile it and run it with the same parameters as our Model 2 (the overfitting one):\n",
    "\n"
   ]
  },
  {
   "cell_type": "code",
   "execution_count": 69,
   "metadata": {},
   "outputs": [
    {
     "name": "stdout",
     "output_type": "stream",
     "text": [
      "Train on 1022 samples, validate on 219 samples\n",
      "Epoch 1/100\n",
      "1022/1022 [==============================] - 5s 5ms/step - loss: 14.7182 - acc: 0.6761 - val_loss: 4.1043 - val_acc: 0.7854\n",
      "Epoch 2/100\n",
      "1022/1022 [==============================] - 3s 3ms/step - loss: 1.7555 - acc: 0.8288 - val_loss: 0.6611 - val_acc: 0.8813\n",
      "Epoch 3/100\n",
      "1022/1022 [==============================] - 3s 3ms/step - loss: 0.5664 - acc: 0.8552 - val_loss: 0.5189 - val_acc: 0.8767\n",
      "Epoch 4/100\n",
      "1022/1022 [==============================] - 3s 3ms/step - loss: 0.5487 - acc: 0.8542 - val_loss: 0.5226 - val_acc: 0.8767\n",
      "Epoch 5/100\n",
      "1022/1022 [==============================] - 3s 3ms/step - loss: 0.4974 - acc: 0.8787 - val_loss: 0.4608 - val_acc: 0.8904\n",
      "Epoch 6/100\n",
      "1022/1022 [==============================] - 3s 3ms/step - loss: 0.4784 - acc: 0.8748 - val_loss: 0.4454 - val_acc: 0.8950\n",
      "Epoch 7/100\n",
      "1022/1022 [==============================] - 3s 3ms/step - loss: 0.4806 - acc: 0.8748 - val_loss: 0.4441 - val_acc: 0.9041\n",
      "Epoch 8/100\n",
      "1022/1022 [==============================] - 3s 3ms/step - loss: 0.4749 - acc: 0.8757 - val_loss: 0.5072 - val_acc: 0.8219\n",
      "Epoch 9/100\n",
      "1022/1022 [==============================] - 3s 3ms/step - loss: 0.4746 - acc: 0.8806 - val_loss: 0.4398 - val_acc: 0.9041\n",
      "Epoch 10/100\n",
      "1022/1022 [==============================] - 3s 3ms/step - loss: 0.4545 - acc: 0.8885 - val_loss: 0.4325 - val_acc: 0.8950\n",
      "Epoch 11/100\n",
      "1022/1022 [==============================] - 3s 3ms/step - loss: 0.4847 - acc: 0.8630 - val_loss: 0.4584 - val_acc: 0.8858\n",
      "Epoch 12/100\n",
      "1022/1022 [==============================] - 3s 3ms/step - loss: 0.4879 - acc: 0.8767 - val_loss: 0.4287 - val_acc: 0.9178\n",
      "Epoch 13/100\n",
      "1022/1022 [==============================] - 3s 3ms/step - loss: 0.4690 - acc: 0.8728 - val_loss: 0.4999 - val_acc: 0.8311\n",
      "Epoch 14/100\n",
      "1022/1022 [==============================] - 4s 4ms/step - loss: 0.4501 - acc: 0.8836 - val_loss: 0.4200 - val_acc: 0.9178\n",
      "Epoch 15/100\n",
      "1022/1022 [==============================] - 3s 3ms/step - loss: 0.4541 - acc: 0.8777 - val_loss: 0.4313 - val_acc: 0.8858\n",
      "Epoch 16/100\n",
      "1022/1022 [==============================] - 3s 3ms/step - loss: 0.4516 - acc: 0.8865 - val_loss: 0.4293 - val_acc: 0.8904\n",
      "Epoch 17/100\n",
      "1022/1022 [==============================] - 3s 3ms/step - loss: 0.4470 - acc: 0.8855 - val_loss: 0.4477 - val_acc: 0.8676\n",
      "Epoch 18/100\n",
      "1022/1022 [==============================] - 3s 3ms/step - loss: 0.4689 - acc: 0.8718 - val_loss: 0.4332 - val_acc: 0.8858\n",
      "Epoch 19/100\n",
      "1022/1022 [==============================] - 3s 3ms/step - loss: 0.4644 - acc: 0.8787 - val_loss: 0.4229 - val_acc: 0.8995\n",
      "Epoch 20/100\n",
      "1022/1022 [==============================] - 3s 3ms/step - loss: 0.4589 - acc: 0.8669 - val_loss: 0.4231 - val_acc: 0.8858\n",
      "Epoch 21/100\n",
      "1022/1022 [==============================] - 3s 3ms/step - loss: 0.4409 - acc: 0.8689 - val_loss: 0.4110 - val_acc: 0.9132\n",
      "Epoch 22/100\n",
      "1022/1022 [==============================] - 3s 3ms/step - loss: 0.4587 - acc: 0.8708 - val_loss: 0.4169 - val_acc: 0.9087\n",
      "Epoch 23/100\n",
      "1022/1022 [==============================] - 3s 3ms/step - loss: 0.4470 - acc: 0.8777 - val_loss: 0.4310 - val_acc: 0.8950\n",
      "Epoch 24/100\n",
      "1022/1022 [==============================] - 3s 3ms/step - loss: 0.4494 - acc: 0.8826 - val_loss: 0.4206 - val_acc: 0.9132\n",
      "Epoch 25/100\n",
      "1022/1022 [==============================] - 3s 3ms/step - loss: 0.4534 - acc: 0.8689 - val_loss: 0.4110 - val_acc: 0.8995\n",
      "Epoch 26/100\n",
      "1022/1022 [==============================] - 4s 4ms/step - loss: 0.4477 - acc: 0.8826 - val_loss: 0.4117 - val_acc: 0.9132\n",
      "Epoch 27/100\n",
      "1022/1022 [==============================] - 3s 3ms/step - loss: 0.4472 - acc: 0.8836 - val_loss: 0.4282 - val_acc: 0.8676\n",
      "Epoch 28/100\n",
      "1022/1022 [==============================] - 3s 3ms/step - loss: 0.4348 - acc: 0.8806 - val_loss: 0.4555 - val_acc: 0.8539\n",
      "Epoch 29/100\n",
      "1022/1022 [==============================] - 4s 3ms/step - loss: 0.4558 - acc: 0.8699 - val_loss: 0.4110 - val_acc: 0.9132\n",
      "Epoch 30/100\n",
      "1022/1022 [==============================] - 3s 3ms/step - loss: 0.4598 - acc: 0.8777 - val_loss: 0.4292 - val_acc: 0.8676\n",
      "Epoch 31/100\n",
      "1022/1022 [==============================] - 3s 3ms/step - loss: 0.4466 - acc: 0.8855 - val_loss: 0.4087 - val_acc: 0.8995\n",
      "Epoch 32/100\n",
      "1022/1022 [==============================] - 3s 3ms/step - loss: 0.4430 - acc: 0.8767 - val_loss: 0.4417 - val_acc: 0.8630\n",
      "Epoch 33/100\n",
      "1022/1022 [==============================] - 3s 3ms/step - loss: 0.4466 - acc: 0.8767 - val_loss: 0.4092 - val_acc: 0.9132\n",
      "Epoch 34/100\n",
      "1022/1022 [==============================] - 3s 3ms/step - loss: 0.4470 - acc: 0.8855 - val_loss: 0.4106 - val_acc: 0.9087\n",
      "Epoch 35/100\n",
      "1022/1022 [==============================] - 3s 3ms/step - loss: 0.4495 - acc: 0.8757 - val_loss: 0.4385 - val_acc: 0.8630\n",
      "Epoch 36/100\n",
      "1022/1022 [==============================] - 3s 3ms/step - loss: 0.4428 - acc: 0.8875 - val_loss: 0.4067 - val_acc: 0.9087\n",
      "Epoch 37/100\n",
      "1022/1022 [==============================] - 3s 3ms/step - loss: 0.4514 - acc: 0.8777 - val_loss: 0.4318 - val_acc: 0.8676\n",
      "Epoch 38/100\n",
      "1022/1022 [==============================] - 3s 3ms/step - loss: 0.4397 - acc: 0.8894 - val_loss: 0.4069 - val_acc: 0.9087\n",
      "Epoch 39/100\n",
      "1022/1022 [==============================] - 3s 3ms/step - loss: 0.4354 - acc: 0.8865 - val_loss: 0.4077 - val_acc: 0.9132\n",
      "Epoch 40/100\n",
      "1022/1022 [==============================] - 3s 3ms/step - loss: 0.4371 - acc: 0.8777 - val_loss: 0.4031 - val_acc: 0.9041\n",
      "Epoch 41/100\n",
      "1022/1022 [==============================] - 3s 3ms/step - loss: 0.4564 - acc: 0.8806 - val_loss: 0.5009 - val_acc: 0.8174\n",
      "Epoch 42/100\n",
      "1022/1022 [==============================] - 3s 3ms/step - loss: 0.4582 - acc: 0.8669 - val_loss: 0.4301 - val_acc: 0.8676\n",
      "Epoch 43/100\n",
      "1022/1022 [==============================] - 3s 3ms/step - loss: 0.4294 - acc: 0.8914 - val_loss: 0.4041 - val_acc: 0.9087\n",
      "Epoch 44/100\n",
      "1022/1022 [==============================] - 3s 3ms/step - loss: 0.4377 - acc: 0.8875 - val_loss: 0.4199 - val_acc: 0.8858\n",
      "Epoch 45/100\n",
      "1022/1022 [==============================] - 3s 3ms/step - loss: 0.4399 - acc: 0.8806 - val_loss: 0.4159 - val_acc: 0.8676\n",
      "Epoch 46/100\n",
      "1022/1022 [==============================] - 3s 3ms/step - loss: 0.4326 - acc: 0.8855 - val_loss: 0.4167 - val_acc: 0.8676\n",
      "Epoch 47/100\n",
      "1022/1022 [==============================] - 3s 3ms/step - loss: 0.4520 - acc: 0.8699 - val_loss: 0.4074 - val_acc: 0.9132\n",
      "Epoch 48/100\n",
      "1022/1022 [==============================] - 3s 3ms/step - loss: 0.4300 - acc: 0.8836 - val_loss: 0.4521 - val_acc: 0.8584\n",
      "Epoch 49/100\n",
      "1022/1022 [==============================] - 3s 3ms/step - loss: 0.4512 - acc: 0.8767 - val_loss: 0.4150 - val_acc: 0.8858\n",
      "Epoch 50/100\n",
      "1022/1022 [==============================] - 3s 3ms/step - loss: 0.4416 - acc: 0.8855 - val_loss: 0.4086 - val_acc: 0.8904\n",
      "Epoch 51/100\n",
      "1022/1022 [==============================] - 3s 3ms/step - loss: 0.4552 - acc: 0.8679 - val_loss: 0.4086 - val_acc: 0.9087\n",
      "Epoch 52/100\n",
      "1022/1022 [==============================] - 3s 3ms/step - loss: 0.4365 - acc: 0.8767 - val_loss: 0.4059 - val_acc: 0.8950\n",
      "Epoch 53/100\n",
      "1022/1022 [==============================] - 3s 3ms/step - loss: 0.4521 - acc: 0.8611 - val_loss: 0.4089 - val_acc: 0.9132\n",
      "Epoch 54/100\n",
      "1022/1022 [==============================] - 3s 3ms/step - loss: 0.4336 - acc: 0.8943 - val_loss: 0.4030 - val_acc: 0.9087\n",
      "Epoch 55/100\n",
      "1022/1022 [==============================] - 3s 3ms/step - loss: 0.4444 - acc: 0.8796 - val_loss: 0.4079 - val_acc: 0.9087\n",
      "Epoch 56/100\n",
      "1022/1022 [==============================] - 3s 3ms/step - loss: 0.4262 - acc: 0.8885 - val_loss: 0.4473 - val_acc: 0.8630\n",
      "Epoch 57/100\n",
      "1022/1022 [==============================] - 3s 3ms/step - loss: 0.4465 - acc: 0.8855 - val_loss: 0.4358 - val_acc: 0.8904\n",
      "Epoch 58/100\n",
      "1022/1022 [==============================] - 3s 3ms/step - loss: 0.4359 - acc: 0.8816 - val_loss: 0.4238 - val_acc: 0.8676\n",
      "Epoch 59/100\n",
      "1022/1022 [==============================] - 3s 3ms/step - loss: 0.4489 - acc: 0.8738 - val_loss: 0.4093 - val_acc: 0.9087\n",
      "Epoch 60/100\n",
      "1022/1022 [==============================] - 3s 3ms/step - loss: 0.4491 - acc: 0.8777 - val_loss: 0.4066 - val_acc: 0.9132\n"
     ]
    },
    {
     "name": "stdout",
     "output_type": "stream",
     "text": [
      "Epoch 61/100\n",
      "1022/1022 [==============================] - 3s 3ms/step - loss: 0.4327 - acc: 0.8806 - val_loss: 0.4031 - val_acc: 0.9087\n",
      "Epoch 62/100\n",
      "1022/1022 [==============================] - 3s 3ms/step - loss: 0.4299 - acc: 0.8943 - val_loss: 0.4366 - val_acc: 0.8539\n",
      "Epoch 63/100\n",
      "1022/1022 [==============================] - 3s 3ms/step - loss: 0.4334 - acc: 0.8924 - val_loss: 0.4050 - val_acc: 0.9041\n",
      "Epoch 64/100\n",
      "1022/1022 [==============================] - 3s 3ms/step - loss: 0.4603 - acc: 0.8659 - val_loss: 0.4198 - val_acc: 0.8995\n",
      "Epoch 65/100\n",
      "1022/1022 [==============================] - 3s 3ms/step - loss: 0.4469 - acc: 0.8787 - val_loss: 0.4084 - val_acc: 0.8950\n",
      "Epoch 66/100\n",
      "1022/1022 [==============================] - 3s 3ms/step - loss: 0.4201 - acc: 0.8924 - val_loss: 0.4029 - val_acc: 0.9178\n",
      "Epoch 67/100\n",
      "1022/1022 [==============================] - 3s 3ms/step - loss: 0.4332 - acc: 0.8816 - val_loss: 0.4016 - val_acc: 0.9087\n",
      "Epoch 68/100\n",
      "1022/1022 [==============================] - 3s 3ms/step - loss: 0.4212 - acc: 0.8933 - val_loss: 0.4028 - val_acc: 0.9041\n",
      "Epoch 69/100\n",
      "1022/1022 [==============================] - 3s 3ms/step - loss: 0.4458 - acc: 0.8816 - val_loss: 0.4126 - val_acc: 0.9087\n",
      "Epoch 70/100\n",
      "1022/1022 [==============================] - 3s 3ms/step - loss: 0.4384 - acc: 0.8787 - val_loss: 0.4091 - val_acc: 0.9178\n",
      "Epoch 71/100\n",
      "1022/1022 [==============================] - 3s 3ms/step - loss: 0.4503 - acc: 0.8699 - val_loss: 0.4531 - val_acc: 0.8539\n",
      "Epoch 72/100\n",
      "1022/1022 [==============================] - 3s 3ms/step - loss: 0.4456 - acc: 0.8787 - val_loss: 0.4095 - val_acc: 0.8950\n",
      "Epoch 73/100\n",
      "1022/1022 [==============================] - 3s 3ms/step - loss: 0.4284 - acc: 0.8806 - val_loss: 0.4150 - val_acc: 0.8676\n",
      "Epoch 74/100\n",
      "1022/1022 [==============================] - 3s 3ms/step - loss: 0.4292 - acc: 0.8875 - val_loss: 0.4203 - val_acc: 0.8676\n",
      "Epoch 75/100\n",
      "1022/1022 [==============================] - 3s 3ms/step - loss: 0.4311 - acc: 0.8806 - val_loss: 0.4135 - val_acc: 0.8767\n",
      "Epoch 76/100\n",
      "1022/1022 [==============================] - 3s 3ms/step - loss: 0.4410 - acc: 0.8855 - val_loss: 0.4017 - val_acc: 0.9041\n",
      "Epoch 77/100\n",
      "1022/1022 [==============================] - 3s 3ms/step - loss: 0.4477 - acc: 0.8757 - val_loss: 0.4064 - val_acc: 0.9041\n",
      "Epoch 78/100\n",
      "1022/1022 [==============================] - 3s 3ms/step - loss: 0.4442 - acc: 0.8767 - val_loss: 0.4080 - val_acc: 0.9178\n",
      "Epoch 79/100\n",
      "1022/1022 [==============================] - 3s 3ms/step - loss: 0.4574 - acc: 0.8767 - val_loss: 0.4294 - val_acc: 0.8584\n",
      "Epoch 80/100\n",
      "1022/1022 [==============================] - 3s 3ms/step - loss: 0.4278 - acc: 0.8914 - val_loss: 0.4032 - val_acc: 0.9087\n",
      "Epoch 81/100\n",
      "1022/1022 [==============================] - 3s 3ms/step - loss: 0.4347 - acc: 0.8796 - val_loss: 0.4126 - val_acc: 0.8904\n",
      "Epoch 82/100\n",
      "1022/1022 [==============================] - 3s 3ms/step - loss: 0.4343 - acc: 0.8816 - val_loss: 0.4028 - val_acc: 0.8904\n",
      "Epoch 83/100\n",
      "1022/1022 [==============================] - 3s 3ms/step - loss: 0.4435 - acc: 0.8806 - val_loss: 0.4063 - val_acc: 0.9087\n",
      "Epoch 84/100\n",
      "1022/1022 [==============================] - 3s 3ms/step - loss: 0.4399 - acc: 0.8757 - val_loss: 0.4076 - val_acc: 0.9132\n",
      "Epoch 85/100\n",
      "1022/1022 [==============================] - 3s 3ms/step - loss: 0.4398 - acc: 0.8875 - val_loss: 0.4499 - val_acc: 0.8584\n",
      "Epoch 86/100\n",
      "1022/1022 [==============================] - 3s 3ms/step - loss: 0.4210 - acc: 0.8924 - val_loss: 0.4005 - val_acc: 0.8995\n",
      "Epoch 87/100\n",
      "1022/1022 [==============================] - 3s 3ms/step - loss: 0.4350 - acc: 0.8836 - val_loss: 0.5210 - val_acc: 0.8037\n",
      "Epoch 88/100\n",
      "1022/1022 [==============================] - 3s 3ms/step - loss: 0.4370 - acc: 0.8845 - val_loss: 0.4063 - val_acc: 0.8858\n",
      "Epoch 89/100\n",
      "1022/1022 [==============================] - 3s 3ms/step - loss: 0.4333 - acc: 0.8885 - val_loss: 0.4691 - val_acc: 0.8767\n",
      "Epoch 90/100\n",
      "1022/1022 [==============================] - 3s 3ms/step - loss: 0.4542 - acc: 0.8689 - val_loss: 0.4053 - val_acc: 0.9087\n",
      "Epoch 91/100\n",
      "1022/1022 [==============================] - 3s 3ms/step - loss: 0.4288 - acc: 0.8894 - val_loss: 0.4004 - val_acc: 0.9041\n",
      "Epoch 92/100\n",
      "1022/1022 [==============================] - 3s 3ms/step - loss: 0.4472 - acc: 0.8787 - val_loss: 0.4056 - val_acc: 0.8950\n",
      "Epoch 93/100\n",
      "1022/1022 [==============================] - 3s 3ms/step - loss: 0.4464 - acc: 0.8826 - val_loss: 0.4124 - val_acc: 0.8858\n",
      "Epoch 94/100\n",
      "1022/1022 [==============================] - 3s 3ms/step - loss: 0.4404 - acc: 0.8806 - val_loss: 0.4267 - val_acc: 0.8539\n",
      "Epoch 95/100\n",
      "1022/1022 [==============================] - 3s 3ms/step - loss: 0.4478 - acc: 0.8836 - val_loss: 0.4175 - val_acc: 0.8767\n",
      "Epoch 96/100\n",
      "1022/1022 [==============================] - 3s 3ms/step - loss: 0.4430 - acc: 0.8767 - val_loss: 0.4031 - val_acc: 0.9041\n",
      "Epoch 97/100\n",
      "1022/1022 [==============================] - 3s 3ms/step - loss: 0.4426 - acc: 0.8855 - val_loss: 0.4029 - val_acc: 0.8995\n",
      "Epoch 98/100\n",
      "1022/1022 [==============================] - 3s 3ms/step - loss: 0.4279 - acc: 0.8826 - val_loss: 0.4017 - val_acc: 0.9041\n",
      "Epoch 99/100\n",
      "1022/1022 [==============================] - 3s 3ms/step - loss: 0.4309 - acc: 0.8933 - val_loss: 0.4082 - val_acc: 0.9132\n",
      "Epoch 100/100\n",
      "1022/1022 [==============================] - 3s 3ms/step - loss: 0.4299 - acc: 0.8953 - val_loss: 0.4670 - val_acc: 0.8539\n"
     ]
    }
   ],
   "source": [
    "model_3.compile(optimizer='adam',\n",
    "              loss='binary_crossentropy',\n",
    "              metrics=['accuracy'])\n",
    "hist_3 = model_3.fit(X_train, Y_train,\n",
    "          batch_size=32, epochs=100,\n",
    "          validation_data=(X_val, Y_val))"
   ]
  },
  {
   "cell_type": "markdown",
   "metadata": {},
   "source": [
    "And now, let’s plot the loss and accuracy graphs. You’ll notice that the loss is a lot higher at the start, and that’s because we’ve changed our loss function. To plot such that the window is zoomed in between 0 and 1.2 for the loss, we add an additional line of code (plt.ylim) when plotting:"
   ]
  },
  {
   "cell_type": "code",
   "execution_count": 70,
   "metadata": {},
   "outputs": [
    {
     "data": {
      "image/png": "[encoded data removed]",
      "text/plain": [
       "<Figure size 432x288 with 1 Axes>"
      ]
     },
     "metadata": {
      "needs_background": "light"
     },
     "output_type": "display_data"
    }
   ],
   "source": [
    "plt.plot(hist_3.history['loss'])\n",
    "plt.plot(hist_3.history['val_loss'])\n",
    "plt.title('Model loss')\n",
    "plt.ylabel('Loss')\n",
    "plt.xlabel('Epoch')\n",
    "plt.legend(['Train', 'Val'], loc='upper right')\n",
    "plt.ylim(top=1.2, bottom=0)\n",
    "plt.show()"
   ]
  },
  {
   "cell_type": "code",
   "execution_count": 71,
   "metadata": {},
   "outputs": [
    {
     "data": {
      "image/png": "[encoded data removed]",
      "text/plain": [
       "<Figure size 432x288 with 1 Axes>"
      ]
     },
     "metadata": {
      "needs_background": "light"
     },
     "output_type": "display_data"
    }
   ],
   "source": [
    "plt.plot(hist_3.history['acc'])\n",
    "plt.plot(hist_3.history['val_acc'])\n",
    "plt.title('Model accuracy')\n",
    "plt.ylabel('Accuracy')\n",
    "plt.xlabel('Epoch')\n",
    "plt.legend(['Train', 'Val'], loc='lower right')\n",
    "plt.show()"
   ]
  },
  {
   "cell_type": "markdown",
   "metadata": {},
   "source": [
    "Compared to our model in Model 2, we’ve reduced overfitting substantially! And that’s how we apply our regularization techniques to reduce overfitting to the training set.\n",
    "\n",
    "##### Summary: \n",
    "To deal with overfitting, we can code in the following strategies into our model each with about one line of code:\n",
    "1. L2 Regularization\n",
    "2. Dropout"
   ]
  },
  {
   "cell_type": "code",
   "execution_count": null,
   "metadata": {},
   "outputs": [],
   "source": []
  },
  {
   "cell_type": "code",
   "execution_count": null,
   "metadata": {},
   "outputs": [],
   "source": []
  }
 ],
 "metadata": {
  "kernelspec": {
   "display_name": "Python 3",
   "language": "python",
   "name": "python3"
  },
  "language_info": {
   "codemirror_mode": {
    "name": "ipython",
    "version": 3
   },
   "file_extension": ".py",
   "mimetype": "text/x-python",
   "name": "python",
   "nbconvert_exporter": "python",
   "pygments_lexer": "ipython3",
   "version": "3.6.7"
  }
 },
 "nbformat": 4,
 "nbformat_minor": 2
}
